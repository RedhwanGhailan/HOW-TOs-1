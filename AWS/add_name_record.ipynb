{
 "cells": [
  {
   "cell_type": "code",
   "execution_count": 28,
   "metadata": {
    "collapsed": true
   },
   "outputs": [],
   "source": [
    "import boto3\n",
    "\n",
    "client = boto3.client('route53')"
   ]
  },
  {
   "cell_type": "code",
   "execution_count": 29,
   "metadata": {
    "collapsed": true
   },
   "outputs": [],
   "source": [
    "def add_cname_record(source, target, zone_id, ttl):\n",
    "    try:\n",
    "        route53_client = boto3.client('route53')\n",
    "        response = route53_client.change_resource_record_sets(\n",
    "            HostedZoneId=zone_id,\n",
    "            ChangeBatch={\n",
    "                'Comment': 'add {source} -> {target}'.format(source=source, target=target),\n",
    "                'Changes': [\n",
    "                    {\n",
    "                        'Action': 'UPSERT',\n",
    "                        'ResourceRecordSet': {\n",
    "                            'Name': source,\n",
    "                            'Type': 'CNAME',\n",
    "                            'TTL': ttl,\n",
    "                            'ResourceRecords': [{'Value': target}]\n",
    "                        }\n",
    "                    }]\n",
    "            })\n",
    "    except Exception as e:\n",
    "        print(e)"
   ]
  },
  {
   "cell_type": "markdown",
   "metadata": {},
   "source": [
    "# title\n",
    "\n",
    "hhjkjk"
   ]
  },
  {
   "cell_type": "code",
   "execution_count": 30,
   "metadata": {},
   "outputs": [],
   "source": [
    "cname_record_name='{}.{}'.format(\"mzinit\", \"itunes.aws.local\")"
   ]
  },
  {
   "cell_type": "code",
   "execution_count": 31,
   "metadata": {},
   "outputs": [
    {
     "name": "stdout",
     "output_type": "stream",
     "text": [
      "CNAME Record Name=mzinit.itunes.aws.local, Value=ecslb.blah\n"
     ]
    }
   ],
   "source": [
    "add_cname_record(cname_record_name, \"ecslb.blah\",\n",
    "                     'Z2QGTP3R5V1SKC', 120)\n",
    "logmsg=\"CNAME Record Name={}, Value={}\".format(cname_record_name, \"ecslb.blah\")\n",
    "print (logmsg)"
   ]
  }
 ],
 "metadata": {
  "kernelspec": {
   "display_name": "Python 3",
   "language": "python",
   "name": "python3"
  },
  "language_info": {
   "codemirror_mode": {
    "name": "ipython",
    "version": 3.0
   },
   "file_extension": ".py",
   "mimetype": "text/x-python",
   "name": "python",
   "nbconvert_exporter": "python",
   "pygments_lexer": "ipython3",
   "version": "3.5.2"
  }
 },
 "nbformat": 4,
 "nbformat_minor": 0
}